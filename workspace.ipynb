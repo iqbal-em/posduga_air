{
 "cells": [
  {
   "cell_type": "code",
   "execution_count": 1,
   "metadata": {},
   "outputs": [],
   "source": [
    "import time"
   ]
  },
  {
   "cell_type": "code",
   "execution_count": 8,
   "metadata": {},
   "outputs": [
    {
     "name": "stdout",
     "output_type": "stream",
     "text": [
      "connection error\n",
      "4\n"
     ]
    }
   ],
   "source": [
    "import requests\n",
    "import json\n",
    "\n",
    "url = \"https://posduga.sysable.io/api/sendjsondata\"\n",
    "imei =  \"088298203829\"\n",
    "headers = {'Content-type': 'application/json', 'Accept': 'text/plain'}\n",
    "def kirim_data(data,img):\n",
    "    \n",
    "    data_fix = {\"foto_cam\":img,\"ketinggian_air\":data,\"imei\":imei}\n",
    "    try :\n",
    "        r = requests.post(url, data=json.dumps(data_fix), headers=headers)\n",
    "        r.close()\n",
    "        return r\n",
    "    except requests.exceptions.ConnectionError:\n",
    "        print(\"connection error\")\n",
    "\n",
    "    print(2+2)\n",
    "\n",
    "data = 123\n",
    "img = \" \"\n",
    "kirim_data(data,img)"
   ]
  },
  {
   "cell_type": "code",
   "execution_count": 10,
   "metadata": {},
   "outputs": [
    {
     "name": "stdout",
     "output_type": "stream",
     "text": [
      "09/18/2021\n"
     ]
    }
   ],
   "source": [
    "import time\n",
    "t = time.localtime()\n",
    "current_time = time.strftime(\"%H:%M:%S\", t)\n",
    "#print(\"Current Time : \" + current_time)\n",
    "#print(\"jadwal Pengiriman:\"+ jadwal_pengiriman) \n",
    "date_time = time.strftime(\"%m/%d/%Y\", t)  \n",
    "print(date_time)"
   ]
  },
  {
   "cell_type": "code",
   "execution_count": 8,
   "metadata": {},
   "outputs": [
    {
     "name": "stdout",
     "output_type": "stream",
     "text": [
      "Data committed\n"
     ]
    }
   ],
   "source": [
    "#testing simpan_data\n",
    "\n",
    "import datetime\n",
    "import MySQLdb\n",
    "import time\n",
    "\n",
    "def kirim_data_local(data) :\n",
    "    db = MySQLdb.connect(\"localhost\", \"root\", \"\", \"posduga_air\")\n",
    "    curs=db.cursor()\n",
    "    #kirim data lokal\n",
    "\n",
    "    #\n",
    "    t = time.localtime()\n",
    "    current_time = time.strftime(\"%H:%M:%S\", t)\n",
    "       \n",
    "    date = datetime.datetime.now().date()\n",
    "    temp_waktu = str(date) +  str(current_time)\n",
    "    data = 130\n",
    "    tmp_data = \"r'C:\\img\\'\" + temp_waktu\n",
    "\n",
    "    #tmp_img = 'home/pi/posduga_air/img/%s',temp_waktu\n",
    "    curs.execute (\"\"\"INSERT INTO data(ketinggian_air,data_cam,status)\n",
    "            values(%s, %s,%s)\"\"\",(data, tmp_data, tes))\n",
    "\n",
    "    db.commit()\n",
    "    print (\"Data committed\")\n",
    "\n",
    "kirim_data_local(120)\n",
    "\n"
   ]
  },
  {
   "cell_type": "code",
   "execution_count": 65,
   "metadata": {},
   "outputs": [
    {
     "name": "stdout",
     "output_type": "stream",
     "text": [
      ".00\n"
     ]
    }
   ],
   "source": [
    "def ubah_data_local(x) :\n",
    "    db = MySQLdb.connect(\"localhost\", \"root\", \"\", \"posduga_air\")\n",
    "    curs=db.cursor()\n",
    "    curs.execute(\"update data set status = 0 where id = %s\",(x))\n",
    "    #kirim data lokal\n",
    "\n",
    "    #\n",
    "\n",
    "\n",
    "    #tmp_img = 'home/pi/posduga_air/img/%s',temp_waktu\n",
    "    curs.execute(\"\")\n",
    "    db.commit()\n",
    "\n",
    "\n",
    "\n",
    "def cek_data_local() :\n",
    "    db = MySQLdb.connect(\"localhost\", \"root\", \"\", \"posduga_air\")\n",
    "    curs=db.cursor()\n",
    "    #kirim data lokal\n",
    "\n",
    "    #\n",
    "\n",
    "\n",
    "    #tmp_img = 'home/pi/posduga_air/img/%s',temp_waktu\n",
    "    curs.execute(\"SELECT * FROM data ORDER BY id DESC LIMIT 0, 1\")\n",
    "    db.commit()\n",
    "\n",
    "    temp_data_local = curs.fetchone()\n",
    "    print(temp_data_local[3][2:5])\n",
    "\n",
    "cek_data_local()"
   ]
  },
  {
   "cell_type": "code",
   "execution_count": 9,
   "metadata": {},
   "outputs": [
    {
     "name": "stdout",
     "output_type": "stream",
     "text": [
      "Data committed\n"
     ]
    },
    {
     "ename": "TypeError",
     "evalue": "unsupported operand type(s) for -: 'str' and 'datetime.timedelta'",
     "output_type": "error",
     "traceback": [
      "\u001b[1;31m---------------------------------------------------------------------------\u001b[0m",
      "\u001b[1;31mTypeError\u001b[0m                                 Traceback (most recent call last)",
      "\u001b[1;32m~\\AppData\\Local\\Temp/ipykernel_13948/792686414.py\u001b[0m in \u001b[0;36m<module>\u001b[1;34m\u001b[0m\n\u001b[0;32m     31\u001b[0m \u001b[0mdevice_id\u001b[0m \u001b[1;33m=\u001b[0m\u001b[1;36m1\u001b[0m\u001b[1;33m\u001b[0m\u001b[1;33m\u001b[0m\u001b[0m\n\u001b[0;32m     32\u001b[0m \u001b[0mstatus_siaga\u001b[0m \u001b[1;33m=\u001b[0m \u001b[1;36m4\u001b[0m\u001b[1;33m\u001b[0m\u001b[1;33m\u001b[0m\u001b[0m\n\u001b[1;32m---> 33\u001b[1;33m \u001b[0mget_jadwal_pengiriman\u001b[0m\u001b[1;33m(\u001b[0m\u001b[0mdevice_id\u001b[0m\u001b[1;33m,\u001b[0m\u001b[0mstatus_siaga\u001b[0m\u001b[1;33m)\u001b[0m\u001b[1;33m\u001b[0m\u001b[1;33m\u001b[0m\u001b[0m\n\u001b[0m\u001b[0;32m     34\u001b[0m \u001b[1;33m\u001b[0m\u001b[0m\n",
      "\u001b[1;32m~\\AppData\\Local\\Temp/ipykernel_13948/792686414.py\u001b[0m in \u001b[0;36mget_jadwal_pengiriman\u001b[1;34m(device_id, status_siaga)\u001b[0m\n\u001b[0;32m     24\u001b[0m         \u001b[0mt\u001b[0m \u001b[1;33m=\u001b[0m \u001b[0mtime\u001b[0m\u001b[1;33m.\u001b[0m\u001b[0mlocaltime\u001b[0m\u001b[1;33m(\u001b[0m\u001b[1;33m)\u001b[0m\u001b[1;33m\u001b[0m\u001b[1;33m\u001b[0m\u001b[0m\n\u001b[0;32m     25\u001b[0m         \u001b[0mcurrent_time\u001b[0m \u001b[1;33m=\u001b[0m \u001b[0mtime\u001b[0m\u001b[1;33m.\u001b[0m\u001b[0mstrftime\u001b[0m\u001b[1;33m(\u001b[0m\u001b[1;34m\"%H:%M:%S\"\u001b[0m\u001b[1;33m,\u001b[0m \u001b[0mt\u001b[0m\u001b[1;33m)\u001b[0m\u001b[1;33m\u001b[0m\u001b[1;33m\u001b[0m\u001b[0m\n\u001b[1;32m---> 26\u001b[1;33m         \u001b[0mtmp_delta\u001b[0m \u001b[1;33m=\u001b[0m \u001b[0mcurrent_time\u001b[0m \u001b[1;33m-\u001b[0m \u001b[0mx\u001b[0m\u001b[1;33m[\u001b[0m\u001b[1;36m3\u001b[0m\u001b[1;33m]\u001b[0m\u001b[1;33m\u001b[0m\u001b[1;33m\u001b[0m\u001b[0m\n\u001b[0m\u001b[0;32m     27\u001b[0m         \u001b[0mprint\u001b[0m\u001b[1;33m(\u001b[0m\u001b[0mtmp_delta\u001b[0m\u001b[1;33m)\u001b[0m\u001b[1;33m\u001b[0m\u001b[1;33m\u001b[0m\u001b[0m\n\u001b[0;32m     28\u001b[0m \u001b[1;33m\u001b[0m\u001b[0m\n",
      "\u001b[1;31mTypeError\u001b[0m: unsupported operand type(s) for -: 'str' and 'datetime.timedelta'"
     ]
    }
   ],
   "source": [
    "#testing simpan_data\n",
    "\n",
    "import datetime\n",
    "import MySQLdb\n",
    "import time\n",
    "from datetime import timedelta\n",
    "\n",
    "def get_jadwal_pengiriman(device_id,status_siaga) :\n",
    "    db = MySQLdb.connect(\"localhost\", \"root\", \"\", \"posduga_air\")\n",
    "    curs=db.cursor()\n",
    "    count = 0\n",
    "        \n",
    "    query = \"\"\"select * from jadwal_devices where device_id = %s and level = %s\"\"\"\n",
    "    tmp_data = (device_id,status_siaga,)\n",
    "    #tmp_img = 'home/pi/posduga_air/img/%s',temp_waktu\n",
    "    curs.execute (query,tmp_data)\n",
    "    \n",
    "\n",
    "\n",
    "    db.commit()\n",
    "    print (\"Data committed\")\n",
    "    temp_data_local = curs.fetchall()\n",
    "    for x in temp_data_local:\n",
    "        t = time.localtime()\n",
    "        current_time = time.strftime(\"%H:%M:%S\", t)\n",
    "        tmp_delta = current_time - x[3]\n",
    "        print(tmp_delta)\n",
    "        \n",
    "    #print(\"Jadwal Pengiriman status 2 : \", temp_data_local[0][3])\n",
    "   \n",
    "device_id =1\n",
    "status_siaga = 4\n",
    "get_jadwal_pengiriman(device_id,status_siaga)\n",
    "\n"
   ]
  },
  {
   "cell_type": "code",
   "execution_count": 5,
   "metadata": {},
   "outputs": [
    {
     "name": "stdout",
     "output_type": "stream",
     "text": [
      "ubah data <_mysql.connection open to 'localhost' at 0000023A0D64D838>\n"
     ]
    }
   ],
   "source": [
    "import MySQLdb\n",
    "\n",
    "def ubah_data_local(x) :\n",
    "    db = MySQLdb.connect(\"localhost\", \"root\", \"\", \"posduga_air\")\n",
    "    curs=db.cursor()\n",
    "    tmp = (x,)\n",
    "    sql = \"\"\"update data set status = 1 where id = %s\"\"\"\n",
    "    curs.execute(sql,x)\n",
    "    #kirim data lokal\n",
    "    #tmp_img = 'home/pi/posduga_air/img/%s',temp_waktu\n",
    "    db.commit()\n",
    "    print(\"ubah data\", db)\n",
    "\n",
    "ubah_data_local(str(1))\n",
    "\n"
   ]
  },
  {
   "cell_type": "code",
   "execution_count": 1,
   "metadata": {},
   "outputs": [
    {
     "name": "stdout",
     "output_type": "stream",
     "text": [
      "17\n"
     ]
    }
   ],
   "source": [
    "import time\n",
    "from datetime import timedelta, datetime\n",
    "\n",
    "\n",
    "t = time.localtime()\n",
    "current_time = time.strftime(\"%M\", t)\n",
    "print(current_time)\n",
    "if (int(current_time)>20):\n",
    "    tmp_jadwal_pengiriman = str(datetime.now().date()) + \" \" + str(int(time.strftime(\"%H\", t))+1) + \":00:00\" \n",
    "    #tmp_jadwal_pengiriman = datetime.strptime(tmp_jadwal_pengiriman, '%Y-%m-%d %H:%M:%S')\n",
    "    #next_schedule = \n",
    "    print(tmp_jadwal_pengiriman)"
   ]
  },
  {
   "cell_type": "code",
   "execution_count": 18,
   "metadata": {},
   "outputs": [
    {
     "name": "stdout",
     "output_type": "stream",
     "text": [
      "<_mysql.connection open to 'localhost' at 0000023A0D651F18>\n",
      "1\n",
      "2\n"
     ]
    }
   ],
   "source": [
    "\n",
    "def cek_data_local() :\n",
    "    db = MySQLdb.connect(\"localhost\", \"root\", \"\", \"posduga_air\")\n",
    "    curs=db.cursor()\n",
    "    #kirim data lokal\n",
    "    #tmp_img = 'home/pi/posduga_air/img/%s',temp_waktu\n",
    "    curs.execute(\"SELECT * FROM data where id\")\n",
    "    db.commit()\n",
    "    print(db)\n",
    "    data_dict = {}\n",
    "    #print(\"ubah data\", db)\n",
    "    temp_data_local = curs.fetchall()\n",
    "    #print(\"asdsad\",type(temp_data_local[0]))\n",
    "\n",
    "    for x in temp_data_local:\n",
    "        print(x[0])\n",
    "    '''for x in temp_data_local:\n",
    "        data_fix = {\"foto_cam\":x[2],\"ketinggian_air\":x[1],\"imei\":imei, \"waktu\":x[3], \"tanggal\":x[4] }\n",
    "        #print(\"data sini\",data_fix)\n",
    "        #kirim_data_local_server(data_fix)\n",
    "        print(\"ID\",x[0])\n",
    "        ubah_data_local(x[0])'''\n",
    "cek_data_local()"
   ]
  },
  {
   "cell_type": "code",
   "execution_count": 199,
   "metadata": {},
   "outputs": [
    {
     "name": "stdout",
     "output_type": "stream",
     "text": [
      "{1: [datetime.datetime(2021, 10, 31, 17, 0), datetime.datetime(2021, 10, 31, 17, 15), datetime.datetime(2021, 10, 31, 17, 30), datetime.datetime(2021, 10, 31, 17, 45), datetime.datetime(2021, 10, 31, 18, 0), datetime.datetime(2021, 10, 31, 18, 15), datetime.datetime(2021, 10, 31, 18, 30), datetime.datetime(2021, 10, 31, 18, 45), datetime.datetime(2021, 10, 31, 19, 0), datetime.datetime(2021, 10, 31, 19, 15), datetime.datetime(2021, 10, 31, 19, 30), datetime.datetime(2021, 10, 31, 19, 45), datetime.datetime(2021, 10, 31, 20, 0), datetime.datetime(2021, 10, 31, 20, 15), datetime.datetime(2021, 10, 31, 20, 30), datetime.datetime(2021, 10, 31, 20, 45), datetime.datetime(2021, 10, 31, 21, 0), datetime.datetime(2021, 10, 31, 21, 15), datetime.datetime(2021, 10, 31, 21, 30), datetime.datetime(2021, 10, 31, 21, 45), datetime.datetime(2021, 10, 31, 22, 0), datetime.datetime(2021, 10, 31, 22, 15), datetime.datetime(2021, 10, 31, 22, 30), datetime.datetime(2021, 10, 31, 22, 45), datetime.datetime(2021, 10, 31, 23, 0), datetime.datetime(2021, 10, 31, 23, 15), datetime.datetime(2021, 10, 31, 23, 30), datetime.datetime(2021, 10, 31, 23, 45)], 2: [datetime.datetime(2021, 10, 31, 17, 0), datetime.datetime(2021, 10, 31, 17, 30), datetime.datetime(2021, 10, 31, 18, 0), datetime.datetime(2021, 10, 31, 18, 30), datetime.datetime(2021, 10, 31, 19, 0), datetime.datetime(2021, 10, 31, 19, 30), datetime.datetime(2021, 10, 31, 20, 0), datetime.datetime(2021, 10, 31, 20, 30), datetime.datetime(2021, 10, 31, 21, 0), datetime.datetime(2021, 10, 31, 21, 30), datetime.datetime(2021, 10, 31, 22, 0), datetime.datetime(2021, 10, 31, 22, 30), datetime.datetime(2021, 10, 31, 23, 0), datetime.datetime(2021, 10, 31, 23, 30)], 3: [datetime.datetime(2021, 10, 31, 17, 0), datetime.datetime(2021, 10, 31, 18, 0), datetime.datetime(2021, 10, 31, 19, 0), datetime.datetime(2021, 10, 31, 20, 0), datetime.datetime(2021, 10, 31, 21, 0), datetime.datetime(2021, 10, 31, 22, 0), datetime.datetime(2021, 10, 31, 23, 0)], 4: [datetime.datetime(2021, 10, 31, 18, 0), datetime.datetime(2021, 10, 31, 21, 0)]}\n"
     ]
    }
   ],
   "source": [
    "import MySQLdb\n",
    "import time\n",
    "import datetime as dt\n",
    "from datetime import datetime, timedelta\n",
    "col = 0\n",
    "\n",
    "dict = {}\n",
    "def ambil_data_jadwal(id1) :\n",
    "    db = MySQLdb.connect(\"localhost\", \"root\", \"\", \"posduga_air\")\n",
    "    curs=db.cursor()\n",
    "    x = (id1,)\n",
    "    query = \"\"\"SELECT level,waktu_pengiriman FROM jadwal_devices where device_id = %s\"\"\"\n",
    "    curs.execute(query,x)\n",
    "    db.commit()\n",
    "    data_dict = {}\n",
    "    temp_data_local = curs.fetchall()\n",
    "    date = dt.datetime.now().date()\n",
    "    t = \"00:00:00\"\n",
    "    tmp_string_realtime = str(date) + \" \" + t\n",
    "    tmp_default_time = datetime.strptime(tmp_string_realtime, '%Y-%m-%d %H:%M:%S')\n",
    "    t = time.localtime()\n",
    "    current_time = time.strftime(\"%H:%M:%S\", t)\n",
    "    current_hour = time.strftime(\"%H\", t)\n",
    "    current_minute = time.strftime(\"%M\",t)\n",
    "    tmplist_jadwal_pengiriman = []\n",
    "    global dict\n",
    "    key  = 1\n",
    "    tmp_id = 1\n",
    "    #print(temp_data_local)\n",
    "    #print(temp_data_local)\n",
    "    for x in temp_data_local:\n",
    "        tmp_time = x[1] \n",
    "        #print(type(tmp_time))\n",
    "        #print(tmp_time)\n",
    "\n",
    "        if (tmp_id == x[0]):\n",
    "            tmp_jadwal_pengiriman = tmp_default_time + timedelta(seconds = tmp_time.total_seconds())\n",
    "            #tmp_jadwal_pengiriman = datetime.strptime(tmp_jadwal_pengiriman, '%Y-%m-%d %H:%M:%S')\n",
    "            #print(tmp_hour)\n",
    "            \n",
    "            if (int(tmp_jadwal_pengiriman.hour) > int(current_hour)):\n",
    "                if(int(tmp_jadwal_pengiriman.minute) > int(current_minute)):\n",
    "                    tmplist_jadwal_pengiriman.append(tmp_jadwal_pengiriman)\n",
    "                else :\n",
    "                    tmplist_jadwal_pengiriman.append(tmp_jadwal_pengiriman)\n",
    "        else :\n",
    "            #print(\"tes\")\n",
    "            #tmplist_jadwal_pengiriman.append(tmp_default_time)\n",
    "            dict[key] = tmplist_jadwal_pengiriman\n",
    "            tmplist_jadwal_pengiriman = []\n",
    "            tmp_jadwal_pengiriman = tmp_default_time + timedelta(seconds = tmp_time.total_seconds())\n",
    "            if (int(tmp_jadwal_pengiriman.hour) > int(current_hour)):\n",
    "                if(int(tmp_jadwal_pengiriman.minute) > int(current_minute)):\n",
    "                    tmplist_jadwal_pengiriman.append(tmp_jadwal_pengiriman)\n",
    "            \n",
    "        \n",
    "            key = key + 1\n",
    "            tmp_id = tmp_id + 1\n",
    "        #print(tmp_jadwal_pengiriman.strftime(\"%H:%M:%S\"))\n",
    "        #print(tmp_jadwal_pengiriman)\n",
    "    #print(dict)\n",
    "    #tmplist_jadwal_pengiriman.append(tmp_default_time)\n",
    "    dict[key] = tmplist_jadwal_pengiriman\n",
    "    print(dict)\n",
    "    return dict\n",
    "\n",
    "    \n",
    "       \n",
    "tes = ambil_data_jadwal(1)\n"
   ]
  },
  {
   "cell_type": "code",
   "execution_count": 179,
   "metadata": {},
   "outputs": [
    {
     "name": "stdout",
     "output_type": "stream",
     "text": [
      "{1: [datetime.datetime(2021, 10, 24, 10, 0), datetime.datetime(2021, 10, 24, 10, 30), datetime.datetime(2021, 10, 24, 11, 0), datetime.datetime(2021, 10, 24, 11, 30), datetime.datetime(2021, 10, 24, 12, 0), datetime.datetime(2021, 10, 24, 12, 30), datetime.datetime(2021, 10, 24, 13, 0), datetime.datetime(2021, 10, 24, 13, 30), datetime.datetime(2021, 10, 24, 14, 0), datetime.datetime(2021, 10, 24, 14, 30), datetime.datetime(2021, 10, 24, 15, 0), datetime.datetime(2021, 10, 24, 15, 30), datetime.datetime(2021, 10, 24, 16, 0), datetime.datetime(2021, 10, 24, 16, 30), datetime.datetime(2021, 10, 24, 17, 0), datetime.datetime(2021, 10, 24, 17, 30), datetime.datetime(2021, 10, 24, 18, 0), datetime.datetime(2021, 10, 24, 18, 30), datetime.datetime(2021, 10, 24, 19, 0), datetime.datetime(2021, 10, 24, 19, 30), datetime.datetime(2021, 10, 24, 20, 0), datetime.datetime(2021, 10, 24, 20, 30), datetime.datetime(2021, 10, 24, 21, 0), datetime.datetime(2021, 10, 24, 21, 30), datetime.datetime(2021, 10, 24, 22, 0), datetime.datetime(2021, 10, 24, 22, 30), datetime.datetime(2021, 10, 24, 23, 0), datetime.datetime(2021, 10, 24, 23, 30)], 2: [datetime.datetime(2021, 10, 24, 10, 0), datetime.datetime(2021, 10, 24, 11, 0), datetime.datetime(2021, 10, 24, 12, 0), datetime.datetime(2021, 10, 24, 13, 0), datetime.datetime(2021, 10, 24, 14, 0), datetime.datetime(2021, 10, 24, 15, 0), datetime.datetime(2021, 10, 24, 16, 0), datetime.datetime(2021, 10, 24, 17, 0), datetime.datetime(2021, 10, 24, 18, 0), datetime.datetime(2021, 10, 24, 19, 0), datetime.datetime(2021, 10, 24, 20, 0), datetime.datetime(2021, 10, 24, 21, 0), datetime.datetime(2021, 10, 24, 22, 0), datetime.datetime(2021, 10, 24, 23, 0)], 3: [datetime.datetime(2021, 10, 24, 10, 0), datetime.datetime(2021, 10, 24, 11, 0), datetime.datetime(2021, 10, 24, 12, 0), datetime.datetime(2021, 10, 24, 13, 0), datetime.datetime(2021, 10, 24, 14, 0), datetime.datetime(2021, 10, 24, 15, 0), datetime.datetime(2021, 10, 24, 16, 0), datetime.datetime(2021, 10, 24, 17, 0), datetime.datetime(2021, 10, 24, 18, 0), datetime.datetime(2021, 10, 24, 19, 0), datetime.datetime(2021, 10, 24, 20, 0), datetime.datetime(2021, 10, 24, 21, 0), datetime.datetime(2021, 10, 24, 22, 0), datetime.datetime(2021, 10, 24, 23, 0)], 4: [datetime.datetime(2021, 10, 23, 12, 0), datetime.datetime(2021, 10, 23, 18, 0)]}\n"
     ]
    }
   ],
   "source": [
    "\n",
    "\n",
    "def update_dict(dict):\n",
    "    tmplist_jadwal_pengiriman = []\n",
    "    for col in range(1,5):\n",
    "        for x in dict[col] :\n",
    "            x += timedelta(days=1)\n",
    "            tmplist_jadwal_pengiriman.append(x)\n",
    "        \n",
    "        dict[col] = tmplist_jadwal_pengiriman\n",
    "        tmplist_jadwal_pengiriman = []\n",
    "    return dict\n",
    "\n",
    "print(update_dict(dict))\n",
    "            \n",
    "            \n",
    "\n",
    "\n",
    "        \n",
    "        "
   ]
  },
  {
   "cell_type": "code",
   "execution_count": 157,
   "metadata": {},
   "outputs": [
    {
     "name": "stdout",
     "output_type": "stream",
     "text": [
      "[datetime.datetime(2021, 10, 21, 18, 0), datetime.datetime(2021, 10, 21, 0, 0)]\n",
      "18:00:00\n",
      "0\n"
     ]
    }
   ],
   "source": [
    "def pengecekan_jadwal(dict,flag):\n",
    "    \n",
    "    date = dt.datetime.now().date()\n",
    "    t = \"00:00:00\"\n",
    "    crt_time = dt.datetime.now()\n",
    "    tmp_string_realtime = str(date) + \" \" + t\n",
    "    tmp_default_time = datetime.strptime(tmp_string_realtime, '%Y-%m-%d %H:%M:%S')\n",
    "    t = time.localtime()\n",
    "    current_time = time.strftime(\"%H:%M:%S\", t)\n",
    "    current_hour = time.strftime(\"%H\", t)\n",
    "    current_minute = time.strftime(\"%M\",t)\n",
    "    col = 0\n",
    "    print(dict[flag])\n",
    "    for x in dict[flag]:\n",
    "        print(x.time())\n",
    "        tmp_time = x\n",
    "        tmp_time = tmp_time - tmp_default_time\n",
    "        tmp_jadwal_pengiriman = tmp_default_time + timedelta(seconds = tmp_time.total_seconds())\n",
    "        delta = crt_time - x\n",
    "        if (delta < timedelta(minutes=1,seconds = 30)):\n",
    "            return col\n",
    "            break\n",
    "        elif (int(tmp_jadwal_pengiriman.hour) > int(current_hour)):\n",
    "                if(int(tmp_jadwal_pengiriman.minute) > int(current_minute)):\n",
    "                    return col\n",
    "                    break\n",
    "                else:  \n",
    "                    return col\n",
    "                    break\n",
    "        \n",
    "        col = col + 1\n",
    "\n",
    "print(pengecekan_jadwal(tes,4))\n",
    "        \n",
    "        "
   ]
  },
  {
   "cell_type": "code",
   "execution_count": 193,
   "metadata": {},
   "outputs": [
    {
     "name": "stdout",
     "output_type": "stream",
     "text": [
      "2\n"
     ]
    }
   ],
   "source": [
    "def update_data_db_local(x1):\n",
    "    db = MySQLdb.connect(\"localhost\", \"admin\", \"t4ng3r4ng\", \"posduga_air\")\n",
    "    curs=db.cursor()\n",
    "    query = \"\"\"SELECT id FROM data ORDER BY id DESC LIMIT 1\"\"\"\n",
    "    curs.execute(query)\n",
    "    db.commit()\n",
    "    data_dict = {}\n",
    "    temp_data_local = curs.fetchone()\n",
    "    x = (x1,int(temp_data_local[0]))\n",
    "    query = \"\"\"UPDATE data SET status =%s where id = %s\"\"\"\n",
    "    curs.execute(query,x)\n",
    "    db.commit()\n",
    "    \n",
    "    print(temp_data_local[0])\n",
    "\n",
    "update_data_db_local(0)\n",
    "    \n"
   ]
  },
  {
   "cell_type": "code",
   "execution_count": null,
   "metadata": {},
   "outputs": [],
   "source": [
    "def ambil_data_local_terakhir() :\n",
    "    db = MySQLdb.connect(\"localhost\", \"admin\", \"t4ng3r4ng\", \"posduga_air\")\n",
    "    curs=db.cursor()\n",
    "    #kirim data lokal\n",
    "    #tmp_img = 'home/pi/posduga_air/img/%s',temp_waktu\n",
    "    curs.execute(\"SELECT * FROM data ORDER BY id DESC LIMIT 0, 1\")\n",
    "    db.commit()\n",
    "    #print(db)\n",
    "    data_dict = {}\n",
    "    #print(\"Ambil Data Terakhir\", db)\n",
    "    temp_data_local = curs.fetchone()\n",
    "    #return temp_data_local[6]\n",
    "    #print(temp_data_local[4])\n",
    "    tmp = temp_data_local[4] + \" \" + temp_data_local[3]\n",
    "    tmp_jadwal_pengiriman = datetime.strptime(tmp, '%Y-%m-%d %H:%M:%S')\n",
    "    return tmp_jadwal_pengiriman\n",
    "\n",
    "print(ambil_data_local_terakhir())"
   ]
  },
  {
   "cell_type": "code",
   "execution_count": 205,
   "metadata": {},
   "outputs": [
    {
     "name": "stdout",
     "output_type": "stream",
     "text": [
      "asdasd\n"
     ]
    }
   ],
   "source": [
    "string = \"tes\"\n",
    "\n",
    "if (string == \"tes\"):\n",
    "    print(\"asdasd\")"
   ]
  },
  {
   "cell_type": "code",
   "execution_count": 203,
   "metadata": {},
   "outputs": [
    {
     "name": "stdout",
     "output_type": "stream",
     "text": [
      "<_mysql.connection open to 'localhost' at 0000023E0B6AAAC8>\n",
      "{1: [datetime.datetime(2021, 10, 31, 0, 0), datetime.datetime(2021, 10, 31, 0, 15), datetime.datetime(2021, 10, 31, 0, 30), datetime.datetime(2021, 10, 31, 0, 45), datetime.datetime(2021, 10, 31, 1, 0), datetime.datetime(2021, 10, 31, 1, 15), datetime.datetime(2021, 10, 31, 1, 30), datetime.datetime(2021, 10, 31, 1, 45), datetime.datetime(2021, 10, 31, 2, 0), datetime.datetime(2021, 10, 31, 2, 15), datetime.datetime(2021, 10, 31, 2, 30), datetime.datetime(2021, 10, 31, 2, 45), datetime.datetime(2021, 10, 31, 3, 0), datetime.datetime(2021, 10, 31, 3, 15), datetime.datetime(2021, 10, 31, 3, 30), datetime.datetime(2021, 10, 31, 3, 45), datetime.datetime(2021, 10, 31, 4, 0), datetime.datetime(2021, 10, 31, 4, 15), datetime.datetime(2021, 10, 31, 4, 30), datetime.datetime(2021, 10, 31, 4, 45), datetime.datetime(2021, 10, 31, 5, 0), datetime.datetime(2021, 10, 31, 5, 15), datetime.datetime(2021, 10, 31, 5, 30), datetime.datetime(2021, 10, 31, 5, 45), datetime.datetime(2021, 10, 31, 6, 0), datetime.datetime(2021, 10, 31, 6, 15), datetime.datetime(2021, 10, 31, 6, 30), datetime.datetime(2021, 10, 31, 6, 45), datetime.datetime(2021, 10, 31, 7, 0), datetime.datetime(2021, 10, 31, 7, 15), datetime.datetime(2021, 10, 31, 7, 30), datetime.datetime(2021, 10, 31, 7, 45), datetime.datetime(2021, 10, 31, 8, 0), datetime.datetime(2021, 10, 31, 8, 15), datetime.datetime(2021, 10, 31, 8, 30), datetime.datetime(2021, 10, 31, 8, 45), datetime.datetime(2021, 10, 31, 9, 0), datetime.datetime(2021, 10, 31, 9, 30), datetime.datetime(2021, 10, 31, 9, 45), datetime.datetime(2021, 10, 31, 10, 0), datetime.datetime(2021, 10, 31, 20, 0), datetime.datetime(2021, 10, 31, 20, 30), datetime.datetime(2021, 10, 31, 21, 0), datetime.datetime(2021, 10, 31, 21, 30), datetime.datetime(2021, 10, 31, 22, 0), datetime.datetime(2021, 10, 31, 22, 30), datetime.datetime(2021, 10, 31, 23, 0), datetime.datetime(2021, 10, 31, 23, 30)], 2: [datetime.datetime(2021, 10, 31, 0, 30), datetime.datetime(2021, 10, 31, 1, 0), datetime.datetime(2021, 10, 31, 1, 30), datetime.datetime(2021, 10, 31, 2, 0), datetime.datetime(2021, 10, 31, 2, 30), datetime.datetime(2021, 10, 31, 3, 0), datetime.datetime(2021, 10, 31, 3, 30), datetime.datetime(2021, 10, 31, 4, 0), datetime.datetime(2021, 10, 31, 4, 30), datetime.datetime(2021, 10, 31, 5, 0), datetime.datetime(2021, 10, 31, 5, 30), datetime.datetime(2021, 10, 31, 6, 0), datetime.datetime(2021, 10, 31, 6, 30), datetime.datetime(2021, 10, 31, 7, 0), datetime.datetime(2021, 10, 31, 7, 30), datetime.datetime(2021, 10, 31, 8, 0), datetime.datetime(2021, 10, 31, 8, 30), datetime.datetime(2021, 10, 31, 9, 0), datetime.datetime(2021, 10, 31, 9, 30), datetime.datetime(2021, 10, 31, 10, 0), datetime.datetime(2021, 10, 31, 10, 30), datetime.datetime(2021, 10, 31, 11, 0), datetime.datetime(2021, 10, 31, 11, 30), datetime.datetime(2021, 10, 31, 12, 0), datetime.datetime(2021, 10, 31, 12, 30), datetime.datetime(2021, 10, 31, 13, 0), datetime.datetime(2021, 10, 31, 13, 30), datetime.datetime(2021, 10, 31, 14, 0), datetime.datetime(2021, 10, 31, 14, 30), datetime.datetime(2021, 10, 31, 15, 0), datetime.datetime(2021, 10, 31, 15, 30), datetime.datetime(2021, 10, 31, 16, 0), datetime.datetime(2021, 10, 31, 16, 30), datetime.datetime(2021, 10, 31, 17, 0), datetime.datetime(2021, 10, 31, 17, 30), datetime.datetime(2021, 10, 31, 18, 0), datetime.datetime(2021, 10, 31, 18, 30), datetime.datetime(2021, 10, 31, 19, 0), datetime.datetime(2021, 10, 31, 19, 30), datetime.datetime(2021, 10, 31, 20, 0), datetime.datetime(2021, 10, 31, 20, 30), datetime.datetime(2021, 10, 31, 21, 0), datetime.datetime(2021, 10, 31, 21, 30), datetime.datetime(2021, 10, 31, 22, 0), datetime.datetime(2021, 10, 31, 22, 30), datetime.datetime(2021, 10, 31, 23, 0), datetime.datetime(2021, 10, 31, 23, 30), datetime.datetime(2021, 10, 31, 0, 0)], 3: [datetime.datetime(2021, 10, 31, 1, 0), datetime.datetime(2021, 10, 31, 2, 0), datetime.datetime(2021, 10, 31, 3, 0), datetime.datetime(2021, 10, 31, 4, 0), datetime.datetime(2021, 10, 31, 5, 0), datetime.datetime(2021, 10, 31, 6, 0), datetime.datetime(2021, 10, 31, 7, 0), datetime.datetime(2021, 10, 31, 8, 0), datetime.datetime(2021, 10, 31, 9, 0), datetime.datetime(2021, 10, 31, 10, 0), datetime.datetime(2021, 10, 31, 11, 0), datetime.datetime(2021, 10, 31, 12, 0), datetime.datetime(2021, 10, 31, 13, 0), datetime.datetime(2021, 10, 31, 14, 0), datetime.datetime(2021, 10, 31, 15, 0), datetime.datetime(2021, 10, 31, 16, 0), datetime.datetime(2021, 10, 31, 17, 0), datetime.datetime(2021, 10, 31, 18, 0), datetime.datetime(2021, 10, 31, 19, 0), datetime.datetime(2021, 10, 31, 20, 0), datetime.datetime(2021, 10, 31, 21, 0), datetime.datetime(2021, 10, 31, 22, 0), datetime.datetime(2021, 10, 31, 23, 0), datetime.datetime(2021, 10, 31, 0, 0)], 4: [datetime.datetime(2021, 10, 31, 3, 0), datetime.datetime(2021, 10, 31, 6, 0), datetime.datetime(2021, 10, 31, 9, 0), datetime.datetime(2021, 10, 31, 12, 0), datetime.datetime(2021, 10, 31, 15, 0), datetime.datetime(2021, 10, 31, 18, 0), datetime.datetime(2021, 10, 31, 21, 0), datetime.datetime(2021, 10, 31, 0, 0)]}\n"
     ]
    }
   ],
   "source": [
    "def ambil_data_jadwal(id1) :\n",
    "    db = MySQLdb.connect(\"localhost\", \"root\", \"\", \"posduga_air\")\n",
    "    curs=db.cursor()\n",
    "    #kirim data lokal\n",
    "    #tmp_img = 'home/pi/posduga_air/img/%s',temp_waktu\n",
    "    x = (id1,)\n",
    "    query = \"\"\"SELECT level,waktu_pengiriman FROM jadwal_devices where device_id = %s\"\"\"\n",
    "    curs.execute(query,x)\n",
    "    db.commit()\n",
    "    print(db)\n",
    "    data_dict = {}\n",
    "    #print(\"ubah data\", db)\n",
    "    temp_data_local = curs.fetchall()\n",
    "    #print(temp_data_local)\n",
    "    date = dt.datetime.now().date()\n",
    "    t = \"00:00:00\"\n",
    "    tmp_string_realtime = str(date) + \" \" + t\n",
    "    tmp_default_time = datetime.strptime(tmp_string_realtime, '%Y-%m-%d %H:%M:%S')\n",
    "    t = time.localtime()\n",
    "    current_time = time.strftime(\"%H:%M:%S\", t)\n",
    "    current_hour = time.strftime(\"%H\", t)\n",
    "    current_minute = time.strftime(\"%M\",t)\n",
    "    tmplist_jadwal_pengiriman = []\n",
    "    dict = {}\n",
    "    key  = 1\n",
    "    tmp_id = 1\n",
    "    \n",
    "    for x in temp_data_local:\n",
    "        tmp_time = x[1] \n",
    "        #print(tmp_time)\n",
    "\n",
    "        if (tmp_id == x[0]):\n",
    "            tmp_jadwal_pengiriman = tmp_default_time + timedelta(seconds = tmp_time.total_seconds())\n",
    "            #tmp_jadwal_pengiriman = datetime.strptime(tmp_jadwal_pengiriman, '%Y-%m-%d %H:%M:%S')\n",
    "            #print(tmp_hour)\n",
    "            tmplist_jadwal_pengiriman.append(tmp_jadwal_pengiriman)\n",
    "        \n",
    "        else :\n",
    "\n",
    "            #tmplist_jadwal_pengiriman.append(tmp_default_time)\n",
    "            dict[key] = tmplist_jadwal_pengiriman\n",
    "            tmplist_jadwal_pengiriman = []\n",
    "            tmp_jadwal_pengiriman = tmp_default_time + timedelta(seconds = tmp_time.total_seconds())\n",
    "            tmplist_jadwal_pengiriman.append(tmp_jadwal_pengiriman)\n",
    "            \n",
    "        \n",
    "            key = key + 1\n",
    "            tmp_id = tmp_id + 1\n",
    "        #print(tmp_jadwal_pengiriman.strftime(\"%H:%M:%S\"))\n",
    "    #print(dict)\n",
    "    dict[key] = tmplist_jadwal_pengiriman\n",
    "    return dict\n",
    "    #return dict\n",
    "\n",
    "print(ambil_data_jadwal(1))"
   ]
  }
 ],
 "metadata": {
  "interpreter": {
   "hash": "65866c70c88df3858f234111323ba88272c1c961d30d7bd56238f4824d35c3e1"
  },
  "kernelspec": {
   "display_name": "Python 3.7.9 64-bit ('base': conda)",
   "name": "python3"
  },
  "language_info": {
   "codemirror_mode": {
    "name": "ipython",
    "version": 3
   },
   "file_extension": ".py",
   "mimetype": "text/x-python",
   "name": "python",
   "nbconvert_exporter": "python",
   "pygments_lexer": "ipython3",
   "version": "3.7.9"
  },
  "metadata": {
   "interpreter": {
    "hash": "d0ad5ca83bf88aa29219fbbb16ab5793d1fef84f62f28e100b002d5cd93cd52f"
   }
  },
  "orig_nbformat": 2
 },
 "nbformat": 4,
 "nbformat_minor": 2
}
