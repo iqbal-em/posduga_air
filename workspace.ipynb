{
 "cells": [
  {
   "cell_type": "code",
   "execution_count": 8,
   "metadata": {},
   "outputs": [
    {
     "name": "stdout",
     "output_type": "stream",
     "text": [
      "connection error\n",
      "4\n"
     ]
    }
   ],
   "source": [
    "import requests\r\n",
    "import json\r\n",
    "\r\n",
    "url = \"https://posduga.sysable.io/api/sendjsondata\"\r\n",
    "imei =  \"088298203829\"\r\n",
    "headers = {'Content-type': 'application/json', 'Accept': 'text/plain'}\r\n",
    "def kirim_data(data,img):\r\n",
    "    \r\n",
    "    data_fix = {\"foto_cam\":img,\"ketinggian_air\":data,\"imei\":imei}\r\n",
    "    try :\r\n",
    "        r = requests.post(url, data=json.dumps(data_fix), headers=headers)\r\n",
    "        r.close()\r\n",
    "        return r\r\n",
    "    except requests.exceptions.ConnectionError:\r\n",
    "        print(\"connection error\")\r\n",
    "\r\n",
    "    print(2+2)\r\n",
    "\r\n",
    "data = 123\r\n",
    "img = \" \"\r\n",
    "kirim_data(data,img)"
   ]
  },
  {
   "cell_type": "code",
   "execution_count": 9,
   "metadata": {},
   "outputs": [
    {
     "name": "stdout",
     "output_type": "stream",
     "text": [
      "12:13:02\n",
      "Current Time : 12:24:10\n",
      "tes\n"
     ]
    }
   ],
   "source": [
    "import requests\r\n",
    "import json\r\n",
    "import time\r\n",
    "url1 = \"https://posduga.sysable.io/api/api-device-by-imei/088298203821\"\r\n",
    "def get_data_durasi():\r\n",
    "    global siaga1, siaga2, siaga3, siaga4, lvl_siaga1, lvl_siaga2, lvl_siaga3, lvl_siaga4\r\n",
    "    try : \r\n",
    "        r =  requests.get(url=url1)\r\n",
    "        data = r.json()\r\n",
    "        siaga1 = data['data'][0]['siaga']['min_siaga_1']\r\n",
    "        siaga2 = data['data'][0]['siaga']['min_siaga_2']\r\n",
    "        siaga3 = data['data'][0]['siaga']['min_siaga_3']\r\n",
    "        lvl_siaga1 = (data['data'][0]['siaga']['durasi_siaga_1'])*1000\r\n",
    "        lvl_siaga2 = (data['data'][0]['siaga']['durasi_siaga_2'])*1000\r\n",
    "        lvl_siaga3 = (data['data'][0]['siaga']['durasi_siaga_3'])*1000\r\n",
    "        lvl_siaga4 = (data['data'][0]['siaga']['durasi_siaga_4'])*1000\r\n",
    "        lastupdate = data['last_update']\r\n",
    "        lastupdate_tanggal = lastupdate[11:19]\r\n",
    "        print(lastupdate_tanggal)\r\n",
    "    \r\n",
    "    except requests.exceptions.ConnectionError:\r\n",
    "        print(r)\r\n",
    "get_data_durasi()\r\n",
    "t = time.localtime()\r\n",
    "current_time = time.strftime(\"%H:%M:%S\", t)\r\n",
    "print(\"Current Time : \" + current_time)\r\n",
    "tes = \"12:13:02\"\r\n",
    "if (tes == \"12:13:02\"):\r\n",
    "    print(\"tes\")\r\n"
   ]
  }
 ],
 "metadata": {
  "kernelspec": {
   "display_name": "Python 3.9.1 64-bit",
   "name": "python391jvsc74a57bd0d0ad5ca83bf88aa29219fbbb16ab5793d1fef84f62f28e100b002d5cd93cd52f"
  },
  "language_info": {
   "codemirror_mode": {
    "name": "ipython",
    "version": 3
   },
   "file_extension": ".py",
   "mimetype": "text/x-python",
   "name": "python",
   "nbconvert_exporter": "python",
   "pygments_lexer": "ipython3",
   "version": "3.9.1"
  },
  "metadata": {
   "interpreter": {
    "hash": "d0ad5ca83bf88aa29219fbbb16ab5793d1fef84f62f28e100b002d5cd93cd52f"
   }
  },
  "orig_nbformat": 2
 },
 "nbformat": 4,
 "nbformat_minor": 2
}