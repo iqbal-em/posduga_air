{
 "cells": [
  {
   "cell_type": "code",
   "execution_count": 1,
   "metadata": {},
   "outputs": [],
   "source": [
    "import time"
   ]
  },
  {
   "cell_type": "code",
   "execution_count": 8,
   "metadata": {},
   "outputs": [
    {
     "name": "stdout",
     "output_type": "stream",
     "text": [
      "connection error\n",
      "4\n"
     ]
    }
   ],
   "source": [
    "import requests\n",
    "import json\n",
    "\n",
    "url = \"https://posduga.sysable.io/api/sendjsondata\"\n",
    "imei =  \"088298203829\"\n",
    "headers = {'Content-type': 'application/json', 'Accept': 'text/plain'}\n",
    "def kirim_data(data,img):\n",
    "    \n",
    "    data_fix = {\"foto_cam\":img,\"ketinggian_air\":data,\"imei\":imei}\n",
    "    try :\n",
    "        r = requests.post(url, data=json.dumps(data_fix), headers=headers)\n",
    "        r.close()\n",
    "        return r\n",
    "    except requests.exceptions.ConnectionError:\n",
    "        print(\"connection error\")\n",
    "\n",
    "    print(2+2)\n",
    "\n",
    "data = 123\n",
    "img = \" \"\n",
    "kirim_data(data,img)"
   ]
  },
  {
   "cell_type": "code",
   "execution_count": 10,
   "metadata": {},
   "outputs": [
    {
     "name": "stdout",
     "output_type": "stream",
     "text": [
      "09/18/2021\n"
     ]
    }
   ],
   "source": [
    "import time\n",
    "t = time.localtime()\n",
    "current_time = time.strftime(\"%H:%M:%S\", t)\n",
    "#print(\"Current Time : \" + current_time)\n",
    "#print(\"jadwal Pengiriman:\"+ jadwal_pengiriman) \n",
    "date_time = time.strftime(\"%m/%d/%Y\", t)  \n",
    "print(date_time)"
   ]
  },
  {
   "cell_type": "code",
   "execution_count": 8,
   "metadata": {},
   "outputs": [
    {
     "name": "stdout",
     "output_type": "stream",
     "text": [
      "Data committed\n"
     ]
    }
   ],
   "source": [
    "#testing simpan_data\n",
    "\n",
    "import datetime\n",
    "import MySQLdb\n",
    "import time\n",
    "\n",
    "def kirim_data_local(data) :\n",
    "    db = MySQLdb.connect(\"localhost\", \"root\", \"\", \"posduga_air\")\n",
    "    curs=db.cursor()\n",
    "    #kirim data lokal\n",
    "\n",
    "    #\n",
    "    t = time.localtime()\n",
    "    current_time = time.strftime(\"%H:%M:%S\", t)\n",
    "       \n",
    "    date = datetime.datetime.now().date()\n",
    "    temp_waktu = str(date) +  str(current_time)\n",
    "    data = 130\n",
    "    tmp_data = \"r'C:\\img\\'\" + temp_waktu\n",
    "\n",
    "    #tmp_img = 'home/pi/posduga_air/img/%s',temp_waktu\n",
    "    curs.execute (\"\"\"INSERT INTO data(ketinggian_air,data_cam,status)\n",
    "            values(%s, %s,%s)\"\"\",(data, tmp_data, tes))\n",
    "\n",
    "    db.commit()\n",
    "    print (\"Data committed\")\n",
    "\n",
    "kirim_data_local(120)\n",
    "\n"
   ]
  },
  {
   "cell_type": "code",
   "execution_count": 65,
   "metadata": {},
   "outputs": [
    {
     "name": "stdout",
     "output_type": "stream",
     "text": [
      ".00\n"
     ]
    }
   ],
   "source": [
    "def ubah_data_local(x) :\n",
    "    db = MySQLdb.connect(\"localhost\", \"root\", \"\", \"posduga_air\")\n",
    "    curs=db.cursor()\n",
    "    curs.execute(\"update data set status = 0 where id = %s\",(x))\n",
    "    #kirim data lokal\n",
    "\n",
    "    #\n",
    "\n",
    "\n",
    "    #tmp_img = 'home/pi/posduga_air/img/%s',temp_waktu\n",
    "    curs.execute(\"\")\n",
    "    db.commit()\n",
    "\n",
    "\n",
    "\n",
    "def cek_data_local() :\n",
    "    db = MySQLdb.connect(\"localhost\", \"root\", \"\", \"posduga_air\")\n",
    "    curs=db.cursor()\n",
    "    #kirim data lokal\n",
    "\n",
    "    #\n",
    "\n",
    "\n",
    "    #tmp_img = 'home/pi/posduga_air/img/%s',temp_waktu\n",
    "    curs.execute(\"SELECT * FROM data ORDER BY id DESC LIMIT 0, 1\")\n",
    "    db.commit()\n",
    "\n",
    "    temp_data_local = curs.fetchone()\n",
    "    print(temp_data_local[3][2:5])\n",
    "\n",
    "cek_data_local()"
   ]
  },
  {
   "cell_type": "code",
   "execution_count": 9,
   "metadata": {},
   "outputs": [
    {
     "name": "stdout",
     "output_type": "stream",
     "text": [
      "Data committed\n"
     ]
    },
    {
     "ename": "TypeError",
     "evalue": "unsupported operand type(s) for -: 'str' and 'datetime.timedelta'",
     "output_type": "error",
     "traceback": [
      "\u001b[1;31m---------------------------------------------------------------------------\u001b[0m",
      "\u001b[1;31mTypeError\u001b[0m                                 Traceback (most recent call last)",
      "\u001b[1;32m~\\AppData\\Local\\Temp/ipykernel_13948/792686414.py\u001b[0m in \u001b[0;36m<module>\u001b[1;34m\u001b[0m\n\u001b[0;32m     31\u001b[0m \u001b[0mdevice_id\u001b[0m \u001b[1;33m=\u001b[0m\u001b[1;36m1\u001b[0m\u001b[1;33m\u001b[0m\u001b[1;33m\u001b[0m\u001b[0m\n\u001b[0;32m     32\u001b[0m \u001b[0mstatus_siaga\u001b[0m \u001b[1;33m=\u001b[0m \u001b[1;36m4\u001b[0m\u001b[1;33m\u001b[0m\u001b[1;33m\u001b[0m\u001b[0m\n\u001b[1;32m---> 33\u001b[1;33m \u001b[0mget_jadwal_pengiriman\u001b[0m\u001b[1;33m(\u001b[0m\u001b[0mdevice_id\u001b[0m\u001b[1;33m,\u001b[0m\u001b[0mstatus_siaga\u001b[0m\u001b[1;33m)\u001b[0m\u001b[1;33m\u001b[0m\u001b[1;33m\u001b[0m\u001b[0m\n\u001b[0m\u001b[0;32m     34\u001b[0m \u001b[1;33m\u001b[0m\u001b[0m\n",
      "\u001b[1;32m~\\AppData\\Local\\Temp/ipykernel_13948/792686414.py\u001b[0m in \u001b[0;36mget_jadwal_pengiriman\u001b[1;34m(device_id, status_siaga)\u001b[0m\n\u001b[0;32m     24\u001b[0m         \u001b[0mt\u001b[0m \u001b[1;33m=\u001b[0m \u001b[0mtime\u001b[0m\u001b[1;33m.\u001b[0m\u001b[0mlocaltime\u001b[0m\u001b[1;33m(\u001b[0m\u001b[1;33m)\u001b[0m\u001b[1;33m\u001b[0m\u001b[1;33m\u001b[0m\u001b[0m\n\u001b[0;32m     25\u001b[0m         \u001b[0mcurrent_time\u001b[0m \u001b[1;33m=\u001b[0m \u001b[0mtime\u001b[0m\u001b[1;33m.\u001b[0m\u001b[0mstrftime\u001b[0m\u001b[1;33m(\u001b[0m\u001b[1;34m\"%H:%M:%S\"\u001b[0m\u001b[1;33m,\u001b[0m \u001b[0mt\u001b[0m\u001b[1;33m)\u001b[0m\u001b[1;33m\u001b[0m\u001b[1;33m\u001b[0m\u001b[0m\n\u001b[1;32m---> 26\u001b[1;33m         \u001b[0mtmp_delta\u001b[0m \u001b[1;33m=\u001b[0m \u001b[0mcurrent_time\u001b[0m \u001b[1;33m-\u001b[0m \u001b[0mx\u001b[0m\u001b[1;33m[\u001b[0m\u001b[1;36m3\u001b[0m\u001b[1;33m]\u001b[0m\u001b[1;33m\u001b[0m\u001b[1;33m\u001b[0m\u001b[0m\n\u001b[0m\u001b[0;32m     27\u001b[0m         \u001b[0mprint\u001b[0m\u001b[1;33m(\u001b[0m\u001b[0mtmp_delta\u001b[0m\u001b[1;33m)\u001b[0m\u001b[1;33m\u001b[0m\u001b[1;33m\u001b[0m\u001b[0m\n\u001b[0;32m     28\u001b[0m \u001b[1;33m\u001b[0m\u001b[0m\n",
      "\u001b[1;31mTypeError\u001b[0m: unsupported operand type(s) for -: 'str' and 'datetime.timedelta'"
     ]
    }
   ],
   "source": [
    "#testing simpan_data\n",
    "\n",
    "import datetime\n",
    "import MySQLdb\n",
    "import time\n",
    "from datetime import timedelta\n",
    "\n",
    "def get_jadwal_pengiriman(device_id,status_siaga) :\n",
    "    db = MySQLdb.connect(\"localhost\", \"root\", \"\", \"posduga_air\")\n",
    "    curs=db.cursor()\n",
    "    count = 0\n",
    "        \n",
    "    query = \"\"\"select * from jadwal_devices where device_id = %s and level = %s\"\"\"\n",
    "    tmp_data = (device_id,status_siaga,)\n",
    "    #tmp_img = 'home/pi/posduga_air/img/%s',temp_waktu\n",
    "    curs.execute (query,tmp_data)\n",
    "    \n",
    "\n",
    "\n",
    "    db.commit()\n",
    "    print (\"Data committed\")\n",
    "    temp_data_local = curs.fetchall()\n",
    "    for x in temp_data_local:\n",
    "        t = time.localtime()\n",
    "        current_time = time.strftime(\"%H:%M:%S\", t)\n",
    "        tmp_delta = current_time - x[3]\n",
    "        print(tmp_delta)\n",
    "        \n",
    "    #print(\"Jadwal Pengiriman status 2 : \", temp_data_local[0][3])\n",
    "   \n",
    "device_id =1\n",
    "status_siaga = 4\n",
    "get_jadwal_pengiriman(device_id,status_siaga)\n",
    "\n"
   ]
  },
  {
   "cell_type": "code",
   "execution_count": 5,
   "metadata": {},
   "outputs": [
    {
     "name": "stdout",
     "output_type": "stream",
     "text": [
      "ubah data <_mysql.connection open to 'localhost' at 0000023A0D64D838>\n"
     ]
    }
   ],
   "source": [
    "import MySQLdb\n",
    "\n",
    "def ubah_data_local(x) :\n",
    "    db = MySQLdb.connect(\"localhost\", \"root\", \"\", \"posduga_air\")\n",
    "    curs=db.cursor()\n",
    "    tmp = (x,)\n",
    "    sql = \"\"\"update data set status = 1 where id = %s\"\"\"\n",
    "    curs.execute(sql,x)\n",
    "    #kirim data lokal\n",
    "    #tmp_img = 'home/pi/posduga_air/img/%s',temp_waktu\n",
    "    db.commit()\n",
    "    print(\"ubah data\", db)\n",
    "\n",
    "ubah_data_local(str(1))\n",
    "\n"
   ]
  },
  {
   "cell_type": "code",
   "execution_count": 1,
   "metadata": {},
   "outputs": [
    {
     "name": "stdout",
     "output_type": "stream",
     "text": [
      "17\n"
     ]
    }
   ],
   "source": [
    "import time\n",
    "from datetime import timedelta, datetime\n",
    "\n",
    "\n",
    "t = time.localtime()\n",
    "current_time = time.strftime(\"%M\", t)\n",
    "print(current_time)\n",
    "if (int(current_time)>20):\n",
    "    tmp_jadwal_pengiriman = str(datetime.now().date()) + \" \" + str(int(time.strftime(\"%H\", t))+1) + \":00:00\" \n",
    "    #tmp_jadwal_pengiriman = datetime.strptime(tmp_jadwal_pengiriman, '%Y-%m-%d %H:%M:%S')\n",
    "    #next_schedule = \n",
    "    print(tmp_jadwal_pengiriman)"
   ]
  },
  {
   "cell_type": "code",
   "execution_count": 8,
   "metadata": {},
   "outputs": [
    {
     "data": {
      "text/plain": [
       "<function __main__.cek_data_local()>"
      ]
     },
     "execution_count": 8,
     "metadata": {},
     "output_type": "execute_result"
    }
   ],
   "source": [
    "def cek_data_local() :\n",
    "    db = MySQLdb.connect(\"localhost\", \"root\", \"\", \"posduga_air\")\n",
    "    curs=db.cursor()\n",
    "    #kirim data lokal\n",
    "    #tmp_img = 'home/pi/posduga_air/img/%s',temp_waktu\n",
    "    curs.execute(\"SELECT * FROM data where status = 1\")\n",
    "    db.commit()\n",
    "    print(db)\n",
    "    data_dict = {}\n",
    "    #print(\"ubah data\", db)\n",
    "    temp_data_local = curs.fetchall()\n",
    "    print(\"asdsad\",temp_data_local)\n",
    "    for x in temp_data_local:\n",
    "        data_fix = {\"foto_cam\":x[2],\"ketinggian_air\":x[1],\"imei\":imei, \"waktu\":x[3], \"tanggal\":x[4] }\n",
    "        #print(\"data sini\",data_fix)\n",
    "        #kirim_data_local_server(data_fix)\n",
    "        print(\"ID\",x[0])\n",
    "        ubah_data_local(x[0])\n",
    "cek_data_local"
   ]
  }
 ],
 "metadata": {
  "interpreter": {
   "hash": "65866c70c88df3858f234111323ba88272c1c961d30d7bd56238f4824d35c3e1"
  },
  "kernelspec": {
   "display_name": "Python 3.7.9 64-bit ('base': conda)",
   "name": "python3"
  },
  "language_info": {
   "codemirror_mode": {
    "name": "ipython",
    "version": 3
   },
   "file_extension": ".py",
   "mimetype": "text/x-python",
   "name": "python",
   "nbconvert_exporter": "python",
   "pygments_lexer": "ipython3",
   "version": "3.7.9"
  },
  "metadata": {
   "interpreter": {
    "hash": "d0ad5ca83bf88aa29219fbbb16ab5793d1fef84f62f28e100b002d5cd93cd52f"
   }
  },
  "orig_nbformat": 2
 },
 "nbformat": 4,
 "nbformat_minor": 2
}
