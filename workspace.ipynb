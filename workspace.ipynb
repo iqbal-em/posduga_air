{
 "cells": [
  {
   "cell_type": "code",
   "execution_count": 8,
   "metadata": {},
   "outputs": [
    {
     "name": "stdout",
     "output_type": "stream",
     "text": [
      "connection error\n",
      "4\n"
     ]
    }
   ],
   "source": [
    "import requests\r\n",
    "import json\r\n",
    "\r\n",
    "url = \"https://posduga.sysable.io/api/sendjsondata\"\r\n",
    "imei =  \"088298203829\"\r\n",
    "headers = {'Content-type': 'application/json', 'Accept': 'text/plain'}\r\n",
    "def kirim_data(data,img):\r\n",
    "    \r\n",
    "    data_fix = {\"foto_cam\":img,\"ketinggian_air\":data,\"imei\":imei}\r\n",
    "    try :\r\n",
    "        r = requests.post(url, data=json.dumps(data_fix), headers=headers)\r\n",
    "        r.close()\r\n",
    "        return r\r\n",
    "    except requests.exceptions.ConnectionError:\r\n",
    "        print(\"connection error\")\r\n",
    "\r\n",
    "    print(2+2)\r\n",
    "\r\n",
    "data = 123\r\n",
    "img = \" \"\r\n",
    "kirim_data(data,img)"
   ]
  },
  {
   "cell_type": "code",
   "execution_count": 10,
   "metadata": {},
   "outputs": [
    {
     "name": "stdout",
     "output_type": "stream",
     "text": [
      "09/18/2021\n"
     ]
    }
   ],
   "source": [
    "import time\r\n",
    "t = time.localtime()\r\n",
    "current_time = time.strftime(\"%H:%M:%S\", t)\r\n",
    "#print(\"Current Time : \" + current_time)\r\n",
    "#print(\"jadwal Pengiriman:\"+ jadwal_pengiriman) \r\n",
    "date_time = time.strftime(\"%m/%d/%Y\", t)  \r\n",
    "print(date_time)"
   ]
  },
  {
   "cell_type": "code",
   "execution_count": 8,
   "metadata": {},
   "outputs": [
    {
     "name": "stdout",
     "output_type": "stream",
     "text": [
      "Data committed\n"
     ]
    }
   ],
   "source": [
    "#testing simpan_data\r\n",
    "\r\n",
    "import datetime\r\n",
    "import MySQLdb\r\n",
    "import time\r\n",
    "\r\n",
    "def kirim_data_local(data) :\r\n",
    "    db = MySQLdb.connect(\"localhost\", \"root\", \"\", \"posduga_air\")\r\n",
    "    curs=db.cursor()\r\n",
    "    #kirim data lokal\r\n",
    "\r\n",
    "    #\r\n",
    "    t = time.localtime()\r\n",
    "    current_time = time.strftime(\"%H:%M:%S\", t)\r\n",
    "       \r\n",
    "    date = datetime.datetime.now().date()\r\n",
    "    temp_waktu = str(date) +  str(current_time)\r\n",
    "    data = 130\r\n",
    "    tmp_data = \"r'C:\\img\\'\" + temp_waktu\r\n",
    "    tes = 0\r\n",
    "\r\n",
    "    #tmp_img = 'home/pi/posduga_air/img/%s',temp_waktu\r\n",
    "    curs.execute (\"\"\"INSERT INTO data(ketinggian_air,data_cam,status)\r\n",
    "            values(%s, %s,%s)\"\"\",(data, tmp_data, tes))\r\n",
    "\r\n",
    "    db.commit()\r\n",
    "    print (\"Data committed\")\r\n",
    "\r\n",
    "kirim_data_local(120)\r\n",
    "\r\n"
   ]
  },
  {
   "cell_type": "code",
   "execution_count": 17,
   "metadata": {},
   "outputs": [
    {
     "name": "stdout",
     "output_type": "stream",
     "text": [
      "(130, 'data:image/png;base64,', '06.00.00', '2021-10-05', 0)\n",
      "(100, 'data:image/png;base64,', '12.00.00', '2021-10-05', 0)\n"
     ]
    }
   ],
   "source": [
    "\r\n",
    "def cek_data_local() :\r\n",
    "    db = MySQLdb.connect(\"localhost\", \"root\", \"\", \"posduga_air\")\r\n",
    "    curs=db.cursor()\r\n",
    "    #kirim data lokal\r\n",
    "\r\n",
    "    #\r\n",
    "\r\n",
    "\r\n",
    "    #tmp_img = 'home/pi/posduga_air/img/%s',temp_waktu\r\n",
    "    curs.execute(\"SELECT * FROM data where status = 0\")\r\n",
    "    db.commit()\r\n",
    "\r\n",
    "    temp_data_local = curs.fetchall()\r\n",
    "    \r\n",
    "    for x in temp_data_local:\r\n",
    "        #data = dict(x)\r\n",
    "        \r\n",
    "        print (x(0))\r\n",
    "\r\n",
    "cek_data_local()"
   ]
  },
  {
   "cell_type": "code",
   "execution_count": 1,
   "metadata": {},
   "outputs": [],
   "source": [
    "import  MySQLdb"
   ]
  }
 ],
 "metadata": {
  "kernelspec": {
   "display_name": "Python 3.7.9 64-bit ('base': conda)",
   "name": "python379jvsc74a57bd065866c70c88df3858f234111323ba88272c1c961d30d7bd56238f4824d35c3e1"
  },
  "language_info": {
   "codemirror_mode": {
    "name": "ipython",
    "version": 3
   },
   "file_extension": ".py",
   "mimetype": "text/x-python",
   "name": "python",
   "nbconvert_exporter": "python",
   "pygments_lexer": "ipython3",
   "version": "3.7.9"
  },
  "metadata": {
   "interpreter": {
    "hash": "d0ad5ca83bf88aa29219fbbb16ab5793d1fef84f62f28e100b002d5cd93cd52f"
   }
  },
  "orig_nbformat": 2
 },
 "nbformat": 4,
 "nbformat_minor": 2
}