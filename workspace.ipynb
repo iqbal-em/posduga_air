{
 "cells": [
  {
   "cell_type": "code",
   "execution_count": 8,
   "metadata": {},
   "outputs": [
    {
     "name": "stdout",
     "output_type": "stream",
     "text": [
      "connection error\n",
      "4\n"
     ]
    }
   ],
   "source": [
    "import requests\r\n",
    "import json\r\n",
    "\r\n",
    "url = \"https://posduga.sysable.io/api/sendjsondata\"\r\n",
    "imei =  \"088298203829\"\r\n",
    "headers = {'Content-type': 'application/json', 'Accept': 'text/plain'}\r\n",
    "def kirim_data(data,img):\r\n",
    "    \r\n",
    "    data_fix = {\"foto_cam\":img,\"ketinggian_air\":data,\"imei\":imei}\r\n",
    "    try :\r\n",
    "        r = requests.post(url, data=json.dumps(data_fix), headers=headers)\r\n",
    "        r.close()\r\n",
    "        return r\r\n",
    "    except requests.exceptions.ConnectionError:\r\n",
    "        print(\"connection error\")\r\n",
    "\r\n",
    "    print(2+2)\r\n",
    "\r\n",
    "data = 123\r\n",
    "img = \" \"\r\n",
    "kirim_data(data,img)"
   ]
  },
  {
   "cell_type": "code",
   "execution_count": 10,
   "metadata": {},
   "outputs": [
    {
     "name": "stdout",
     "output_type": "stream",
     "text": [
      "09/18/2021\n"
     ]
    }
   ],
   "source": [
    "import time\r\n",
    "t = time.localtime()\r\n",
    "current_time = time.strftime(\"%H:%M:%S\", t)\r\n",
    "#print(\"Current Time : \" + current_time)\r\n",
    "#print(\"jadwal Pengiriman:\"+ jadwal_pengiriman) \r\n",
    "date_time = time.strftime(\"%m/%d/%Y\", t)  \r\n",
    "print(date_time)"
   ]
  },
  {
   "cell_type": "code",
   "execution_count": 8,
   "metadata": {},
   "outputs": [
    {
     "name": "stdout",
     "output_type": "stream",
     "text": [
      "Data committed\n"
     ]
    }
   ],
   "source": [
    "#testing simpan_data\r\n",
    "\r\n",
    "import datetime\r\n",
    "import MySQLdb\r\n",
    "import time\r\n",
    "\r\n",
    "def kirim_data_local(data) :\r\n",
    "    db = MySQLdb.connect(\"localhost\", \"root\", \"\", \"posduga_air\")\r\n",
    "    curs=db.cursor()\r\n",
    "    #kirim data lokal\r\n",
    "\r\n",
    "    #\r\n",
    "    t = time.localtime()\r\n",
    "    current_time = time.strftime(\"%H:%M:%S\", t)\r\n",
    "       \r\n",
    "    date = datetime.datetime.now().date()\r\n",
    "    temp_waktu = str(date) +  str(current_time)\r\n",
    "    data = 130\r\n",
    "    tmp_data = \"r'C:\\img\\'\" + temp_waktu\r\n",
    "\r\n",
    "    #tmp_img = 'home/pi/posduga_air/img/%s',temp_waktu\r\n",
    "    curs.execute (\"\"\"INSERT INTO data(ketinggian_air,data_cam,status)\r\n",
    "            values(%s, %s,%s)\"\"\",(data, tmp_data, tes))\r\n",
    "\r\n",
    "    db.commit()\r\n",
    "    print (\"Data committed\")\r\n",
    "\r\n",
    "kirim_data_local(120)\r\n",
    "\r\n"
   ]
  },
  {
   "cell_type": "code",
   "execution_count": 28,
   "metadata": {},
   "outputs": [
    {
     "ename": "TypeError",
     "evalue": "'tuple' object is not callable",
     "output_type": "error",
     "traceback": [
      "\u001b[1;31m---------------------------------------------------------------------------\u001b[0m",
      "\u001b[1;31mTypeError\u001b[0m                                 Traceback (most recent call last)",
      "\u001b[1;32m~\\AppData\\Local\\Temp/ipykernel_22236/753750630.py\u001b[0m in \u001b[0;36m<module>\u001b[1;34m\u001b[0m\n\u001b[0;32m     32\u001b[0m \u001b[1;33m\u001b[0m\u001b[0m\n\u001b[0;32m     33\u001b[0m \u001b[1;33m\u001b[0m\u001b[0m\n\u001b[1;32m---> 34\u001b[1;33m \u001b[0mcek_data_local\u001b[0m\u001b[1;33m(\u001b[0m\u001b[1;33m)\u001b[0m\u001b[1;33m\u001b[0m\u001b[1;33m\u001b[0m\u001b[0m\n\u001b[0m",
      "\u001b[1;32m~\\AppData\\Local\\Temp/ipykernel_22236/753750630.py\u001b[0m in \u001b[0;36mcek_data_local\u001b[1;34m()\u001b[0m\n\u001b[0;32m     28\u001b[0m \u001b[1;33m\u001b[0m\u001b[0m\n\u001b[0;32m     29\u001b[0m     \u001b[0mtemp_data_local\u001b[0m \u001b[1;33m=\u001b[0m \u001b[0mcurs\u001b[0m\u001b[1;33m.\u001b[0m\u001b[0mfetchall\u001b[0m\u001b[1;33m(\u001b[0m\u001b[1;33m)\u001b[0m\u001b[1;33m\u001b[0m\u001b[1;33m\u001b[0m\u001b[0m\n\u001b[1;32m---> 30\u001b[1;33m     \u001b[0mprint\u001b[0m\u001b[1;33m(\u001b[0m\u001b[0mtemp_data_local\u001b[0m\u001b[1;33m(\u001b[0m\u001b[1;36m3\u001b[0m\u001b[1;33m)\u001b[0m\u001b[1;33m)\u001b[0m\u001b[1;33m\u001b[0m\u001b[1;33m\u001b[0m\u001b[0m\n\u001b[0m\u001b[0;32m     31\u001b[0m \u001b[1;33m\u001b[0m\u001b[0m\n\u001b[0;32m     32\u001b[0m \u001b[1;33m\u001b[0m\u001b[0m\n",
      "\u001b[1;31mTypeError\u001b[0m: 'tuple' object is not callable"
     ]
    }
   ],
   "source": [
    "def ubah_data_local(x) :\r\n",
    "    db = MySQLdb.connect(\"localhost\", \"root\", \"\", \"posduga_air\")\r\n",
    "    curs=db.cursor()\r\n",
    "    curs.execute(\"update data set status = 0 where id = %s\",(x))\r\n",
    "    #kirim data lokal\r\n",
    "\r\n",
    "    #\r\n",
    "\r\n",
    "\r\n",
    "    #tmp_img = 'home/pi/posduga_air/img/%s',temp_waktu\r\n",
    "    curs.execute(\"\")\r\n",
    "    db.commit()\r\n",
    "\r\n",
    "\r\n",
    "\r\n",
    "def cek_data_local() :\r\n",
    "    db = MySQLdb.connect(\"localhost\", \"root\", \"\", \"posduga_air\")\r\n",
    "    curs=db.cursor()\r\n",
    "    #kirim data lokal\r\n",
    "\r\n",
    "    #\r\n",
    "\r\n",
    "\r\n",
    "    #tmp_img = 'home/pi/posduga_air/img/%s',temp_waktu\r\n",
    "    curs.execute(\"SELECT * FROM data ORDER BY id DESC LIMIT 0, 1\")\r\n",
    "    db.commit()\r\n",
    "    data_dict = {}\r\n",
    "\r\n",
    "    temp_data_local = curs.fetchone()\r\n",
    "    print(temp_data_local(3))\r\n",
    "        \r\n",
    "\r\n",
    "\r\n",
    "cek_data_local()"
   ]
  },
  {
   "cell_type": "code",
   "execution_count": 1,
   "metadata": {},
   "outputs": [],
   "source": [
    "import  MySQLdb"
   ]
  }
 ],
 "metadata": {
  "kernelspec": {
   "display_name": "Python 3.7.9 64-bit ('base': conda)",
   "name": "python379jvsc74a57bd065866c70c88df3858f234111323ba88272c1c961d30d7bd56238f4824d35c3e1"
  },
  "language_info": {
   "codemirror_mode": {
    "name": "ipython",
    "version": 3
   },
   "file_extension": ".py",
   "mimetype": "text/x-python",
   "name": "python",
   "nbconvert_exporter": "python",
   "pygments_lexer": "ipython3",
   "version": "3.7.9"
  },
  "metadata": {
   "interpreter": {
    "hash": "d0ad5ca83bf88aa29219fbbb16ab5793d1fef84f62f28e100b002d5cd93cd52f"
   }
  },
  "orig_nbformat": 2
 },
 "nbformat": 4,
 "nbformat_minor": 2
}